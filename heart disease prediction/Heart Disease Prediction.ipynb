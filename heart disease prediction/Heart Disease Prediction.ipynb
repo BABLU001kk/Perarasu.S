import pandas as pd
import numpy as np
import matplotlib.pyplot as plt
import seaborn as sns
from sklearn.model_selection import train_test_split
from sklearn.preprocessing import StandardScaler
from sklearn.linear_model import LogisticRegression
from sklearn.metrics import classification_report, confusion_matrix, accuracy_score

url = "https://archive.ics.uci.edu/ml/machine-learning-databases/heart-disease/heart.dat"
column_names = [
    'age', 'sex', 'cp', 'trestbps', 'chol', 'fbs', 'restecg', 'thalach', 'exang',
    'oldpeak', 'slope', 'ca', 'thal', 'target'
]

data = pd.read_csv(url, header=None, names=column_names, delimiter=' ')
data.head()

data.isnull().sum()

data.dtypes

data['sex'] = data['sex'].map({0: 'Female', 1: 'Male'})
data['target'] = data['target'].map({0: 'No Disease', 1: 'Disease'})

# Step 4: Split the data into training and testing sets
X = data.drop(columns='target')
y = data['target'].map({'No Disease': 0, 'Disease': 1})

X_train, X_test, y_train, y_test = train_test_split(X, y, test_size=0.2, random_state=42)

scaler = StandardScaler()
X_train_scaled = scaler.fit_transform(X_train)
X_test_scaled = scaler.transform(X_test)

model = LogisticRegression(max_iter=1000)
model.fit(X_train_scaled, y_train)

y_pred = model.predict(X_test_scaled)

print(f"Accuracy: {accuracy_score(y_test, y_pred)}")
print("Confusion Matrix:")
print(confusion_matrix(y_test, y_pred))
print("Classification Report:")
print(classification_report(y_test, y_pred))

sns.heatmap(confusion_matrix(y_test, y_pred), annot=True, fmt='d', cmap='Blues')
plt.title('Confusion Matrix')
plt.xlabel('Predicted')
plt.ylabel('Actual')
plt.show()
